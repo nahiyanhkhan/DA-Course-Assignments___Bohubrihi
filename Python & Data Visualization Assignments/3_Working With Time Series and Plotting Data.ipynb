{
 "cells": [
  {
   "cell_type": "markdown",
   "id": "0fa28911",
   "metadata": {},
   "source": [
    "# Lesson19_Assignment\n",
    "(nahiyanhkhan@gmail.com)"
   ]
  },
  {
   "cell_type": "markdown",
   "id": "b43bf447",
   "metadata": {},
   "source": [
    "**Create a sample DataFrame with time series data.**"
   ]
  },
  {
   "cell_type": "code",
   "execution_count": 1,
   "id": "facdc587",
   "metadata": {},
   "outputs": [],
   "source": [
    "import pandas as pd\n",
    "import numpy as np\n",
    "import matplotlib.pyplot as plt"
   ]
  },
  {
   "cell_type": "code",
   "execution_count": 2,
   "id": "0845b289",
   "metadata": {},
   "outputs": [],
   "source": [
    "date_rng = pd.date_range(start='2023-01-01', end='2023-01-31', freq='D')\n",
    "data = np.random.rand(len(date_rng))  # Random data for demonstration\n",
    "df = pd.DataFrame({'Date': date_rng, 'Value': data})\n",
    "df.set_index('Date', inplace=True)"
   ]
  },
  {
   "cell_type": "code",
   "execution_count": 3,
   "id": "b0875184",
   "metadata": {
    "scrolled": true
   },
   "outputs": [
    {
     "data": {
      "text/html": [
       "<div>\n",
       "<style scoped>\n",
       "    .dataframe tbody tr th:only-of-type {\n",
       "        vertical-align: middle;\n",
       "    }\n",
       "\n",
       "    .dataframe tbody tr th {\n",
       "        vertical-align: top;\n",
       "    }\n",
       "\n",
       "    .dataframe thead th {\n",
       "        text-align: right;\n",
       "    }\n",
       "</style>\n",
       "<table border=\"1\" class=\"dataframe\">\n",
       "  <thead>\n",
       "    <tr style=\"text-align: right;\">\n",
       "      <th></th>\n",
       "      <th>Value</th>\n",
       "    </tr>\n",
       "    <tr>\n",
       "      <th>Date</th>\n",
       "      <th></th>\n",
       "    </tr>\n",
       "  </thead>\n",
       "  <tbody>\n",
       "    <tr>\n",
       "      <th>2023-01-01</th>\n",
       "      <td>0.831165</td>\n",
       "    </tr>\n",
       "    <tr>\n",
       "      <th>2023-01-02</th>\n",
       "      <td>0.117792</td>\n",
       "    </tr>\n",
       "    <tr>\n",
       "      <th>2023-01-03</th>\n",
       "      <td>0.325506</td>\n",
       "    </tr>\n",
       "    <tr>\n",
       "      <th>2023-01-04</th>\n",
       "      <td>0.791047</td>\n",
       "    </tr>\n",
       "    <tr>\n",
       "      <th>2023-01-05</th>\n",
       "      <td>0.577671</td>\n",
       "    </tr>\n",
       "  </tbody>\n",
       "</table>\n",
       "</div>"
      ],
      "text/plain": [
       "               Value\n",
       "Date                \n",
       "2023-01-01  0.831165\n",
       "2023-01-02  0.117792\n",
       "2023-01-03  0.325506\n",
       "2023-01-04  0.791047\n",
       "2023-01-05  0.577671"
      ]
     },
     "execution_count": 3,
     "metadata": {},
     "output_type": "execute_result"
    }
   ],
   "source": [
    "df.head()"
   ]
  },
  {
   "cell_type": "markdown",
   "id": "44b6336a",
   "metadata": {},
   "source": [
    "***1) Calculate the mean value of the 'Value' column for the month of January 2023.***"
   ]
  },
  {
   "cell_type": "code",
   "execution_count": 4,
   "id": "68ffecbe",
   "metadata": {},
   "outputs": [
    {
     "data": {
      "text/plain": [
       "0.500838903714002"
      ]
     },
     "execution_count": 4,
     "metadata": {},
     "output_type": "execute_result"
    }
   ],
   "source": [
    "df['Value'].mean()"
   ]
  },
  {
   "cell_type": "markdown",
   "id": "e1bde8d8",
   "metadata": {},
   "source": [
    "***2) Extract and display data for the week of January 15, 2023, to January 21, 2023.***"
   ]
  },
  {
   "cell_type": "code",
   "execution_count": 5,
   "id": "b4017b2d",
   "metadata": {},
   "outputs": [
    {
     "data": {
      "text/html": [
       "<div>\n",
       "<style scoped>\n",
       "    .dataframe tbody tr th:only-of-type {\n",
       "        vertical-align: middle;\n",
       "    }\n",
       "\n",
       "    .dataframe tbody tr th {\n",
       "        vertical-align: top;\n",
       "    }\n",
       "\n",
       "    .dataframe thead th {\n",
       "        text-align: right;\n",
       "    }\n",
       "</style>\n",
       "<table border=\"1\" class=\"dataframe\">\n",
       "  <thead>\n",
       "    <tr style=\"text-align: right;\">\n",
       "      <th></th>\n",
       "      <th>Value</th>\n",
       "    </tr>\n",
       "    <tr>\n",
       "      <th>Date</th>\n",
       "      <th></th>\n",
       "    </tr>\n",
       "  </thead>\n",
       "  <tbody>\n",
       "    <tr>\n",
       "      <th>2023-01-15</th>\n",
       "      <td>0.052611</td>\n",
       "    </tr>\n",
       "    <tr>\n",
       "      <th>2023-01-16</th>\n",
       "      <td>0.153827</td>\n",
       "    </tr>\n",
       "    <tr>\n",
       "      <th>2023-01-17</th>\n",
       "      <td>0.858016</td>\n",
       "    </tr>\n",
       "    <tr>\n",
       "      <th>2023-01-18</th>\n",
       "      <td>0.991093</td>\n",
       "    </tr>\n",
       "    <tr>\n",
       "      <th>2023-01-19</th>\n",
       "      <td>0.117649</td>\n",
       "    </tr>\n",
       "    <tr>\n",
       "      <th>2023-01-20</th>\n",
       "      <td>0.497901</td>\n",
       "    </tr>\n",
       "    <tr>\n",
       "      <th>2023-01-21</th>\n",
       "      <td>0.599053</td>\n",
       "    </tr>\n",
       "  </tbody>\n",
       "</table>\n",
       "</div>"
      ],
      "text/plain": [
       "               Value\n",
       "Date                \n",
       "2023-01-15  0.052611\n",
       "2023-01-16  0.153827\n",
       "2023-01-17  0.858016\n",
       "2023-01-18  0.991093\n",
       "2023-01-19  0.117649\n",
       "2023-01-20  0.497901\n",
       "2023-01-21  0.599053"
      ]
     },
     "execution_count": 5,
     "metadata": {},
     "output_type": "execute_result"
    }
   ],
   "source": [
    "df['2023-01-15':'2023-01-21']"
   ]
  },
  {
   "cell_type": "markdown",
   "id": "23437f73",
   "metadata": {},
   "source": [
    "***3) Calculate the rolling 7-day average of the 'Value' column and create a new DataFrame with the original data and the rolling average.***"
   ]
  },
  {
   "cell_type": "code",
   "execution_count": 6,
   "id": "f1abc577",
   "metadata": {
    "scrolled": true
   },
   "outputs": [],
   "source": [
    "df2 = df.copy()"
   ]
  },
  {
   "cell_type": "code",
   "execution_count": 7,
   "id": "197794e5",
   "metadata": {
    "scrolled": false
   },
   "outputs": [
    {
     "data": {
      "text/html": [
       "<div>\n",
       "<style scoped>\n",
       "    .dataframe tbody tr th:only-of-type {\n",
       "        vertical-align: middle;\n",
       "    }\n",
       "\n",
       "    .dataframe tbody tr th {\n",
       "        vertical-align: top;\n",
       "    }\n",
       "\n",
       "    .dataframe thead th {\n",
       "        text-align: right;\n",
       "    }\n",
       "</style>\n",
       "<table border=\"1\" class=\"dataframe\">\n",
       "  <thead>\n",
       "    <tr style=\"text-align: right;\">\n",
       "      <th></th>\n",
       "      <th>Value</th>\n",
       "      <th>7D Rolling AVG</th>\n",
       "    </tr>\n",
       "    <tr>\n",
       "      <th>Date</th>\n",
       "      <th></th>\n",
       "      <th></th>\n",
       "    </tr>\n",
       "  </thead>\n",
       "  <tbody>\n",
       "    <tr>\n",
       "      <th>2023-01-01</th>\n",
       "      <td>0.831165</td>\n",
       "      <td>NaN</td>\n",
       "    </tr>\n",
       "    <tr>\n",
       "      <th>2023-01-02</th>\n",
       "      <td>0.117792</td>\n",
       "      <td>NaN</td>\n",
       "    </tr>\n",
       "    <tr>\n",
       "      <th>2023-01-03</th>\n",
       "      <td>0.325506</td>\n",
       "      <td>NaN</td>\n",
       "    </tr>\n",
       "    <tr>\n",
       "      <th>2023-01-04</th>\n",
       "      <td>0.791047</td>\n",
       "      <td>0.498212</td>\n",
       "    </tr>\n",
       "    <tr>\n",
       "      <th>2023-01-05</th>\n",
       "      <td>0.577671</td>\n",
       "      <td>0.462276</td>\n",
       "    </tr>\n",
       "    <tr>\n",
       "      <th>2023-01-06</th>\n",
       "      <td>0.339733</td>\n",
       "      <td>0.454660</td>\n",
       "    </tr>\n",
       "    <tr>\n",
       "      <th>2023-01-07</th>\n",
       "      <td>0.504573</td>\n",
       "      <td>0.447512</td>\n",
       "    </tr>\n",
       "    <tr>\n",
       "      <th>2023-01-08</th>\n",
       "      <td>0.579615</td>\n",
       "      <td>0.357730</td>\n",
       "    </tr>\n",
       "    <tr>\n",
       "      <th>2023-01-09</th>\n",
       "      <td>0.064475</td>\n",
       "      <td>0.387172</td>\n",
       "    </tr>\n",
       "    <tr>\n",
       "      <th>2023-01-10</th>\n",
       "      <td>0.275470</td>\n",
       "      <td>0.469696</td>\n",
       "    </tr>\n",
       "    <tr>\n",
       "      <th>2023-01-11</th>\n",
       "      <td>0.162574</td>\n",
       "      <td>0.539949</td>\n",
       "    </tr>\n",
       "    <tr>\n",
       "      <th>2023-01-12</th>\n",
       "      <td>0.783767</td>\n",
       "      <td>0.464663</td>\n",
       "    </tr>\n",
       "    <tr>\n",
       "      <th>2023-01-13</th>\n",
       "      <td>0.917394</td>\n",
       "      <td>0.477428</td>\n",
       "    </tr>\n",
       "    <tr>\n",
       "      <th>2023-01-14</th>\n",
       "      <td>0.996350</td>\n",
       "      <td>0.560649</td>\n",
       "    </tr>\n",
       "    <tr>\n",
       "      <th>2023-01-15</th>\n",
       "      <td>0.052611</td>\n",
       "      <td>0.679008</td>\n",
       "    </tr>\n",
       "    <tr>\n",
       "      <th>2023-01-16</th>\n",
       "      <td>0.153827</td>\n",
       "      <td>0.583849</td>\n",
       "    </tr>\n",
       "    <tr>\n",
       "      <th>2023-01-17</th>\n",
       "      <td>0.858016</td>\n",
       "      <td>0.523921</td>\n",
       "    </tr>\n",
       "    <tr>\n",
       "      <th>2023-01-18</th>\n",
       "      <td>0.991093</td>\n",
       "      <td>0.467164</td>\n",
       "    </tr>\n",
       "    <tr>\n",
       "      <th>2023-01-19</th>\n",
       "      <td>0.117649</td>\n",
       "      <td>0.553390</td>\n",
       "    </tr>\n",
       "    <tr>\n",
       "      <th>2023-01-20</th>\n",
       "      <td>0.497901</td>\n",
       "      <td>0.660639</td>\n",
       "    </tr>\n",
       "    <tr>\n",
       "      <th>2023-01-21</th>\n",
       "      <td>0.599053</td>\n",
       "      <td>0.551025</td>\n",
       "    </tr>\n",
       "    <tr>\n",
       "      <th>2023-01-22</th>\n",
       "      <td>0.656188</td>\n",
       "      <td>0.466731</td>\n",
       "    </tr>\n",
       "    <tr>\n",
       "      <th>2023-01-23</th>\n",
       "      <td>0.904571</td>\n",
       "      <td>0.533023</td>\n",
       "    </tr>\n",
       "    <tr>\n",
       "      <th>2023-01-24</th>\n",
       "      <td>0.090718</td>\n",
       "      <td>0.505253</td>\n",
       "    </tr>\n",
       "    <tr>\n",
       "      <th>2023-01-25</th>\n",
       "      <td>0.401034</td>\n",
       "      <td>0.556201</td>\n",
       "    </tr>\n",
       "    <tr>\n",
       "      <th>2023-01-26</th>\n",
       "      <td>0.581692</td>\n",
       "      <td>0.474656</td>\n",
       "    </tr>\n",
       "    <tr>\n",
       "      <th>2023-01-27</th>\n",
       "      <td>0.303512</td>\n",
       "      <td>0.428438</td>\n",
       "    </tr>\n",
       "    <tr>\n",
       "      <th>2023-01-28</th>\n",
       "      <td>0.955694</td>\n",
       "      <td>0.476750</td>\n",
       "    </tr>\n",
       "    <tr>\n",
       "      <th>2023-01-29</th>\n",
       "      <td>0.085370</td>\n",
       "      <td>NaN</td>\n",
       "    </tr>\n",
       "    <tr>\n",
       "      <th>2023-01-30</th>\n",
       "      <td>0.581043</td>\n",
       "      <td>NaN</td>\n",
       "    </tr>\n",
       "    <tr>\n",
       "      <th>2023-01-31</th>\n",
       "      <td>0.428903</td>\n",
       "      <td>NaN</td>\n",
       "    </tr>\n",
       "  </tbody>\n",
       "</table>\n",
       "</div>"
      ],
      "text/plain": [
       "               Value  7D Rolling AVG\n",
       "Date                                \n",
       "2023-01-01  0.831165             NaN\n",
       "2023-01-02  0.117792             NaN\n",
       "2023-01-03  0.325506             NaN\n",
       "2023-01-04  0.791047        0.498212\n",
       "2023-01-05  0.577671        0.462276\n",
       "2023-01-06  0.339733        0.454660\n",
       "2023-01-07  0.504573        0.447512\n",
       "2023-01-08  0.579615        0.357730\n",
       "2023-01-09  0.064475        0.387172\n",
       "2023-01-10  0.275470        0.469696\n",
       "2023-01-11  0.162574        0.539949\n",
       "2023-01-12  0.783767        0.464663\n",
       "2023-01-13  0.917394        0.477428\n",
       "2023-01-14  0.996350        0.560649\n",
       "2023-01-15  0.052611        0.679008\n",
       "2023-01-16  0.153827        0.583849\n",
       "2023-01-17  0.858016        0.523921\n",
       "2023-01-18  0.991093        0.467164\n",
       "2023-01-19  0.117649        0.553390\n",
       "2023-01-20  0.497901        0.660639\n",
       "2023-01-21  0.599053        0.551025\n",
       "2023-01-22  0.656188        0.466731\n",
       "2023-01-23  0.904571        0.533023\n",
       "2023-01-24  0.090718        0.505253\n",
       "2023-01-25  0.401034        0.556201\n",
       "2023-01-26  0.581692        0.474656\n",
       "2023-01-27  0.303512        0.428438\n",
       "2023-01-28  0.955694        0.476750\n",
       "2023-01-29  0.085370             NaN\n",
       "2023-01-30  0.581043             NaN\n",
       "2023-01-31  0.428903             NaN"
      ]
     },
     "execution_count": 7,
     "metadata": {},
     "output_type": "execute_result"
    }
   ],
   "source": [
    "df2['7D Rolling AVG'] = df2.rolling(window=7, center=True).mean()\n",
    "df2"
   ]
  },
  {
   "cell_type": "markdown",
   "id": "fe3cb2e4",
   "metadata": {},
   "source": [
    "***4) Create a line plot to visualize the 'Value' column and the rolling 7-day average together.***"
   ]
  },
  {
   "cell_type": "code",
   "execution_count": 8,
   "id": "b37abb57",
   "metadata": {},
   "outputs": [
    {
     "data": {
      "text/plain": [
       "<AxesSubplot:title={'center':'Line Plot of DF2'}, xlabel='Date'>"
      ]
     },
     "execution_count": 8,
     "metadata": {},
     "output_type": "execute_result"
    },
    {
     "data": {
      "image/png": "[encoded data removed]",
      "text/plain": [
       "<Figure size 432x288 with 1 Axes>"
      ]
     },
     "metadata": {
      "needs_background": "light"
     },
     "output_type": "display_data"
    }
   ],
   "source": [
    "df2.plot.line(y=['Value', '7D Rolling AVG'], color=['g','r'], \n",
    "              title='Line Plot of DF2')"
   ]
  }
 ],
 "metadata": {
  "kernelspec": {
   "display_name": "Python 3 (ipykernel)",
   "language": "python",
   "name": "python3"
  },
  "language_info": {
   "codemirror_mode": {
    "name": "ipython",
    "version": 3
   },
   "file_extension": ".py",
   "mimetype": "text/x-python",
   "name": "python",
   "nbconvert_exporter": "python",
   "pygments_lexer": "ipython3",
   "version": "3.9.12"
  }
 },
 "nbformat": 4,
 "nbformat_minor": 5
}
